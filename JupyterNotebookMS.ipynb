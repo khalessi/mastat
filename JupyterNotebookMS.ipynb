{
  "metadata": {
    "language_info": {
      "codemirror_mode": {
        "name": "python",
        "version": 3
      },
      "file_extension": ".py",
      "mimetype": "text/x-python",
      "name": "python",
      "nbconvert_exporter": "python",
      "pygments_lexer": "ipython3",
      "version": "3.8"
    },
    "kernelspec": {
      "name": "python",
      "display_name": "Python (Pyodide)",
      "language": "python"
    }
  },
  "nbformat_minor": 4,
  "nbformat": 4,
  "cells": [
    {
      "cell_type": "markdown",
      "source": "<h1>My Jupyter Notebook on IBM Watson Studio<h1>",
      "metadata": {}
    },
    {
      "cell_type": "markdown",
      "source": "**Mihaela Stativa**",
      "metadata": {}
    },
    {
      "cell_type": "markdown",
      "source": "*I am interested in data science because it's all about the future*",
      "metadata": {}
    },
    {
      "cell_type": "markdown",
      "source": "<h3>My code is supposed to add two numbers<h3>",
      "metadata": {}
    },
    {
      "cell_type": "code",
      "source": "1+2",
      "metadata": {
        "trusted": true
      },
      "execution_count": 3,
      "outputs": [
        {
          "execution_count": 3,
          "output_type": "execute_result",
          "data": {
            "text/plain": "3"
          },
          "metadata": {}
        }
      ]
    },
    {
      "cell_type": "markdown",
      "source": "|Name |Age |Sex |\n|------|-----|------|\n|Maria|23  |F   |",
      "metadata": {}
    },
    {
      "cell_type": "markdown",
      "source": "<h1>Lista<h1>\n    \n- Eggs\n- Bread    \n- ~Apple~\n    \n- __https://www.mega-image.ro/Fructe-si-legume-proaspete/Fructe-proaspete/Mere/c/001001010?q=%3Arelevance&sort=relevance__",
      "metadata": {}
    },
    {
      "cell_type": "code",
      "source": "",
      "metadata": {},
      "execution_count": null,
      "outputs": []
    }
  ]
}